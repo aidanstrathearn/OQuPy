{
 "cells": [
  {
   "cell_type": "markdown",
   "id": "a914d7d8",
   "metadata": {},
   "source": [
    "# Multi-time correlations\n",
    "\n",
    "In this tutorial, we show how to use the OQuPy package to calculate multi-time correlations functions for (possibly) non-Markovian open quantum systems. We will calculate a series of four-time correlation functions to simulate a 2D electronic spectroscopy measurement.\n",
    "\n",
    "- [launch binder](https://mybinder.org/v2/gh/tempoCollaboration/OQuPy/HEAD?labpath=tutorials%2Fn_time_correlations.ipynb) (runs in browser)\n",
    "- [download the jupyter file](https://raw.githubusercontent.com/tempoCollaboration/OQuPy/main/tutorials/n_time_correlations.ipynb)\n",
    "- or read through the text below and code along.\n"
   ]
  },
  {
   "cell_type": "markdown",
   "id": "7dda33fd",
   "metadata": {},
   "source": [
    "**Contents:**\n",
    "\n",
    "* Background - 2D electronic spectroscopy\n",
    "* Example - A three-level chromophore\n",
    "    * 1. Computing the process tensor\n",
    "    * 2. Define the system and dipole operators\n",
    "    * 3. Calculate four-time correlation functions\n",
    "    * 4. Plot a 2D spectrum"
   ]
  },
  {
   "cell_type": "markdown",
   "id": "a597650a",
   "metadata": {},
   "source": [
    "To start, we import OQuPy and some packages we need to Fourier transform  and plot the results:"
   ]
  },
  {
   "cell_type": "code",
   "execution_count": 1,
   "id": "e9465b30",
   "metadata": {
    "scrolled": true
   },
   "outputs": [],
   "source": [
    "import sys\n",
    "sys.path.insert(0,'..')\n",
    "\n",
    "import oqupy\n",
    "from oqupy.contractions import compute_correlations_nt\n",
    "import numpy as np\n",
    "import matplotlib.pyplot as plt\n",
    "from scipy.fft import fftfreq, fftshift, fft2"
   ]
  },
  {
   "cell_type": "markdown",
   "id": "87768dc0",
   "metadata": {},
   "source": [
    "Additionally, we define some matrices required to describe our example system:"
   ]
  },
  {
   "cell_type": "code",
   "execution_count": 2,
   "id": "18c846cf",
   "metadata": {},
   "outputs": [],
   "source": [
    "P_1 = np.array([[0., 0., 0.],\n",
    "                [0., 1., 0.],\n",
    "                [0., 0., 0.]], dtype=complex)\n",
    "\n",
    "P_2 = np.array([[0., 0., 0.],\n",
    "                [0., 0., 0.],\n",
    "                [0., 0., 1.]], dtype=complex)\n",
    "\n",
    "sigma_min = np.array([[0., 0., 0.],\n",
    "                      [0., 0., 1.],\n",
    "                      [0., 0., 0.]], dtype=complex)\n",
    "\n",
    "sigma_plus = np.array([[0., 0., 0.],\n",
    "                       [0., 0., 0.],\n",
    "                       [0., 1., 0.]], dtype=complex)\n",
    "\n",
    "dip_02 = np.array([[0., 0., 1.],\n",
    "                   [0., 0., 0.],\n",
    "                   [1., 0., 0.]], dtype=complex)"
   ]
  },
  {
   "cell_type": "markdown",
   "id": "d271c615",
   "metadata": {},
   "source": [
    "## Background - 2D electronic spectroscopy\n",
    "To illustrate how multi-time correlation functions are calculated with OQuPy, we will simulate a 2D spectrum for a three-level system that captures the essential features of a chromophore (i.e. light absorbing molecule). \n",
    "\n",
    "2D electronic spectroscopy (2DES) is an experimental technique that probes a system with three femtosecond laser pulses. Due to its sensitivity to the complex phases of the system, the resulting signal can capture how energy excitations evolve and decohere in real time. Mathematically, a 2DES signal is expressed as a third-order response function, consisting of a series of four-time correlation functions. Here, we will consider a signal made up of four correlation functions, given by:\n",
    "$$ \n",
    "\\begin{align}\n",
    "R_1 &=  \\mathrm{Tr}\\big[ \\hat{V}(\\tau_4)\\hat{V}(\\tau_1)\\rho_0\\hat{V}(\\tau_2)\\hat{V}(\\tau_3) \\big] \\\\\n",
    "R_2 &= \\mathrm{Tr} \\big[\\hat{V}(\\tau_4)\\hat{V}(\\tau_2)\\rho_0 \\hat{V}(\\tau_1)\\hat{V}(\\tau_3) \\big] \\\\\n",
    "R_3 &= \\mathrm{Tr} \\big[\\hat{V}(\\tau_4)\\hat{V}(\\tau_3)\\rho_0 \\hat{V}(\\tau_1)\\hat{V}(\\tau_2) \\big] \\\\\n",
    "R_4 &= \\mathrm{Tr} \\big[\\hat{V}(\\tau_4)\\hat{V}(\\tau_3)\\hat{V}(\\tau_2)\\hat{V}(\\tau_1) \\rho_0 \\big] \n",
    "\\end{align}\n",
    "$$"
   ]
  },
  {
   "cell_type": "markdown",
   "id": "cc18cc6b",
   "metadata": {},
   "source": [
    "where $\\tau_{1,2,3,4}$ are the times at which the pulses are applied, $\\hat{V}$ is a dipole transition operator and $\\rho_0$ is the model's initial density matrix. We assume these times to be ordered, such that $\\tau_1 \\leq \\tau_2 \\leq \\tau_3 \\leq \\tau_4$.\n",
    "\n",
    "Our goal will therefore be to compute the above four correlation functions. Then, we obtain a 2D spectrum by fourier transforming the output with respect to the first and last time delays, $\\tau_2 - \\tau_1$ and $\\tau_4 - \\tau_3$."
   ]
  },
  {
   "cell_type": "markdown",
   "id": "d04f31d8",
   "metadata": {},
   "source": [
    "## Example - A three-level chromophore\n",
    "Our model chromophore is described by a three-level electronic system with excited states coupled to a vibrational bath, given by the system Hamiltonian:\n",
    "$$\n",
    "H_S = (\\epsilon + \\lambda)(\\vert 1 \\rangle\\langle 1 \\vert + \\vert 2 \\rangle\\langle 2 \\vert) + \\Omega(\\vert 1 \\rangle\\langle 2 \\vert + h.c.),\n",
    "$$\n",
    "where the excited states $\\vert 1 \\rangle, \\vert 2 \\rangle$ have bare energy $\\epsilon$ plus the bath reorganisation energy $\\lambda$, coupled with $\\Omega$. We consider a bath Hamiltonian\n",
    "$$\n",
    "H_B = \\sum_k \\omega_k b^\\dagger_k b_k,\n",
    "$$\n",
    "with frequencies $\\omega_k$ of each bath mode $k$, and an interaction Hamiltonian:\n",
    "$$\n",
    "H_I = (\\vert 1 \\rangle \\langle 1 \\vert - \\vert 2 \\rangle \\langle 2 \\vert) \\sum_k (g_k b_k^\\dagger + g_k^* b_k).\n",
    "$$\n",
    "The system bath couplings $g_k$ are given by the spectral density, which we set to be Ohmic:\n",
    "$$\n",
    "J(\\omega) = \\sum_k |g_k|^2 \\delta(\\omega - \\omega_k) = 2 \\alpha \\omega \\exp \\bigg(- \\frac{\\omega}{\\omega_{cutoff}}\\bigg),\n",
    "$$\n",
    "such that the system-bath coupling strength is set by the dimensionless parameter $\\alpha$, and the reorganisation energy $\\lambda = 2 \\alpha \\omega_{cutoff}$.\n",
    "\n",
    "In this model, the ground state $\\vert 0 \\rangle$ is not coupled to the bath or excited states. However, we will let the dipole operators $\\hat{V}$ act between the ground and second excited state:\n",
    "$$\n",
    "\\hat{V} = \\vert 0 \\rangle \\langle 2 \\vert + h.c..\n",
    "$$\n",
    "\n",
    "Lastly, we will set the initial state of our model to be a product state of $\\vert 0 \\rangle$ and the thermal state of the bath at temperature $T$."
   ]
  },
  {
   "cell_type": "markdown",
   "id": "2c739ee6",
   "metadata": {},
   "source": [
    "### 1. Computing the process tensor\n",
    "We use PT-TEMPO to calculate a process tensor object that captures the influence of the bath on the system. Since the process tensor is independent from the system Hamiltonian $H_S$ and dipole operators $\\hat{V}$, we can re-use it for the computation of all four correlation functions $R_{1,2,3,4}$.\n",
    "\n",
    "First, we set the bath parameters $\\alpha=0.1$, $\\omega_{cutoff} = 3.04\\,\\mathrm{ps}^{-1}$, and $T=100$ K $=13.09 \\frac{1}{\\mathrm{ps \\, k_B}}$. The PT-TEMPO computation furthermore relies on the following convergence parameters: the time step $\\delta t = 0.2\\,\\mathrm{ps}$, the maximal memory cutoff $\\Delta K_{max} = 200$ time steps, and the maximal truncation error $\\epsilon_{rel} = 10^{-2}$."
   ]
  },
  {
   "cell_type": "code",
   "execution_count": 3,
   "id": "28b114ef",
   "metadata": {},
   "outputs": [],
   "source": [
    "omega_cutoff = 3.04\n",
    "alpha =0.1\n",
    "temperature = 13.09\n",
    "\n",
    "dt=0.2\n",
    "dkmax=200\n",
    "epsrel=10**(-2)\n",
    "\n",
    "tempo_parameters = oqupy.TempoParameters(dt=dt, dkmax=dkmax, epsrel=epsrel)"
   ]
  },
  {
   "cell_type": "markdown",
   "id": "4d4d638e",
   "metadata": {},
   "source": [
    "Beware that for illustrative purposes (fast computations), we have picked parameters that do not give completely converged results!\n",
    "\n",
    "Next, we define a bath object that contains the system operator $\\vert 1 \\rangle \\langle 1 \\vert - \\vert 2 \\rangle \\langle 2 \\vert$ in $H_I$ and the correlations corresponding to an Ohmic $J(\\omega)$:"
   ]
  },
  {
   "cell_type": "code",
   "execution_count": 4,
   "id": "73d40caa",
   "metadata": {},
   "outputs": [],
   "source": [
    "syst_int = P_1  - P_2\n",
    "\n",
    "correlations = oqupy.PowerLawSD(alpha=alpha,\n",
    "                                zeta=1,\n",
    "                                cutoff=omega_cutoff,\n",
    "                                cutoff_type='exponential',\n",
    "                                temperature=temperature)\n",
    "\n",
    "bath = oqupy.Bath(syst_int, correlations)"
   ]
  },
  {
   "cell_type": "markdown",
   "id": "654da535",
   "metadata": {},
   "source": [
    "Now we set the start and end time (40 time steps) and compute the process tensor:"
   ]
  },
  {
   "cell_type": "code",
   "execution_count": 5,
   "id": "435b4d4a",
   "metadata": {},
   "outputs": [
    {
     "name": "stdout",
     "output_type": "stream",
     "text": [
      "--> PT-TEMPO computation:\n",
      "100.0%   40 of   40 [########################################] 00:00:00\n",
     ]
    }
   ],
   "source": [
    "start_time = 0.\n",
    "end_time = dt*40\n",
    "\n",
    "process_tensor = oqupy.pt_tempo_compute(bath=bath,\n",
    "                                        start_time=start_time,\n",
    "                                        end_time=end_time,\n",
    "                                        parameters=tempo_parameters)"
   ]
  },
  {
   "cell_type": "markdown",
   "id": "138a40d9",
   "metadata": {},
   "source": [
    "### 2. Define the system and dipole operators\n",
    "Next we set the energies in $H_S$ ($\\epsilon = 5\\,\\mathrm{ps}^{-1}$, $\\Omega = 2\\,\\mathrm{ps}^{-1}$), and define a system object. We furthermore define the dipole operator $\\hat{V}=\\vert 0 \\rangle \\langle 2 \\vert + h.c.$ and the initial system state:"
   ]
  },
  {
   "cell_type": "code",
   "execution_count": 6,
   "id": "be4cccd0",
   "metadata": {},
   "outputs": [],
   "source": [
    "eps = 5.\n",
    "omeg= 2.\n",
    "reorg = 2.0*alpha*omega_cutoff\n",
    "system = oqupy.System((eps+reorg)*(P_1 + P_2)\n",
    "                      + omeg * (sigma_plus + sigma_min))\n",
    "\n",
    "dip_v = np.array([[0., 0., 1.],\n",
    "       [0., 0., 0.],[1., 0., 0.]], dtype=complex)\n",
    "dipole_ops = [dip_v, dip_v, dip_v, dip_v]\n",
    "\n",
    "initial_state = np.array([[1., 0., 0.],\n",
    "       [0., 0., 0.],[0., 0., 0.]], dtype=complex)"
   ]
  },
  {
   "cell_type": "markdown",
   "id": "1a434be0",
   "metadata": {},
   "source": [
    "### 3. Calculate four-time correlation functions\n",
    "The final pieces of information we need are the times at which to apply $\\hat{V}$ and the order at which each $\\hat{V}$ is applied. \n",
    "\n",
    "As shown above, each correlation function $R_{1,2,3,4}$ is time ordered, but differs by whether each operator is sequentially added to the left or right of the initial density matrix $\\rho_0$. For example for $R_1 =  \\mathrm{Tr}\\big[ \\hat{V}(\\tau_4)\\hat{V}(\\tau_1)\\rho_0\\hat{V}(\\tau_2)\\hat{V}(\\tau_3) \\big]$, we apply $\\hat{V}(\\tau_1)$ to the left of $\\rho_0$, then $\\hat{V}(\\tau_2)$ to the right, $\\hat{V}(\\tau_3)$ to the right and finally $\\hat{V}(\\tau_4)$ to the left. In code, we will write this as: ``[\"left\", \"right\", \"right\", \"left\"]``. Similarly for the other correlation functions:"
   ]
  },
  {
   "cell_type": "code",
   "execution_count": 7,
   "id": "6b8780c2",
   "metadata": {},
   "outputs": [],
   "source": [
    "order_1 = [\"left\", \"right\", \"right\", \"left\"]\n",
    "order_2 = [\"right\", \"left\", \"right\", \"left\"]\n",
    "order_3 =  [\"right\", \"right\", \"left\", \"left\"]\n",
    "order_4 = [\"left\", \"left\", \"left\", \"left\"]\n",
    "\n",
    "ops_orders = [order_1, order_2, order_3, order_4]"
   ]
  },
  {
   "cell_type": "markdown",
   "id": "56f305e1",
   "metadata": {},
   "source": [
    "To calculate $R_{1,2,3,4}$ as a function of the time delays $\\tau_2 - \\tau_1$ and $\\tau_4 - \\tau_3$, we vary $\\tau_1$ and $\\tau_4$ over a range of 20 timesteps:"
   ]
  },
  {
   "cell_type": "code",
   "execution_count": 8,
   "id": "3d690070",
   "metadata": {},
   "outputs": [],
   "source": [
    "steps=20\n",
    "\n",
    "times_1 = slice(0, steps)\n",
    "times_2 = slice(steps-1,steps)\n",
    "times_3 = slice(steps-1,steps)\n",
    "times_4 = slice(steps-1, 2*steps -1)\n",
    "\n",
    "ops_times = [times_1, times_2, times_3, times_4]"
   ]
  },
  {
   "cell_type": "markdown",
   "id": "75f4bd92",
   "metadata": {},
   "source": [
    "As above, the time arguments can be given as indices written as slices. They can alternatively be input as indices written as integers, lists of integers and slices, a tuple of floats or a single float. We can now calculate $R_{1,2,3,4}$, adding the output for each correlation function in a list ``cors``:"
   ]
  },
  {
   "cell_type": "code",
   "execution_count": 9,
   "id": "0340876a",
   "metadata": {},
   "outputs": [
    {
     "name": "stdout",
     "output_type": "stream",
     "text": [
      "--> Compute correlations:\n",
      "100.0%   21 of   21 [########################################] 00:00:01\n",
      "Elapsed time: 1.0s\n",
      "--> Compute correlations:\n",
      "100.0%   21 of   21 [########################################] 00:00:01\n",
      "Elapsed time: 1.0s\n",
      "--> Compute correlations:\n",
      "100.0%   20 of   20 [########################################] 00:00:00\n",
      "Elapsed time: 1.0s\n",
      "--> Compute correlations:\n",
      "100.0%   21 of   21 [########################################] 00:00:01\n",
     ]
    }
   ],
   "source": [
    "cors=[]\n",
    "\n",
    "for i in range (len(ops_orders)):\n",
    "    cor = compute_correlations_nt(system = system, \n",
    "                                      process_tensor=process_tensor, \n",
    "                                      operators = dipole_ops, \n",
    "                                      ops_times=ops_times, \n",
    "                                      ops_order=ops_orders[i],\n",
    "                                      dt = dt,\n",
    "                                      initial_state = initial_state,\n",
    "                                      start_time = start_time,\n",
    "                                      progress_type = \"bar\")\n",
    "    cors.append(cor)"
   ]
  },
  {
   "cell_type": "markdown",
   "id": "5ff1763e",
   "metadata": {},
   "source": [
    "``compute_correlations_nt`` outputs a list of length 2, where the first element returns the times at which the operators were applied:"
   ]
  },
  {
   "cell_type": "code",
   "execution_count": 10,
   "id": "7af383ad",
   "metadata": {},
   "outputs": [
    {
     "data": {
      "text/plain": [
       "[array([0. , 0.2, 0.4, 0.6, 0.8, 1. , 1.2, 1.4, 1.6, 1.8, 2. , 2.2, 2.4,\n",
       "        2.6, 2.8, 3. , 3.2, 3.4, 3.6, 3.8]),\n",
       " array([3.8]),\n",
       " array([3.8]),\n",
       " array([3.8, 4. , 4.2, 4.4, 4.6, 4.8, 5. , 5.2, 5.4, 5.6, 5.8, 6. , 6.2,\n",
       "        6.4, 6.6, 6.8, 7. , 7.2, 7.4, 7.6])]"
      ]
     },
     "execution_count": 10,
     "metadata": {},
     "output_type": "execute_result"
    }
   ],
   "source": [
    "cors[0][0]"
   ]
  },
  {
   "cell_type": "markdown",
   "id": "1f4694de",
   "metadata": {},
   "source": [
    "The second element in the list is a four-dimensional array that contains all the correlations at the specified times. Its shape corresponds to the length of each time range:"
   ]
  },
  {
   "cell_type": "code",
   "execution_count": 11,
   "id": "a369775d",
   "metadata": {},
   "outputs": [
    {
     "data": {
      "text/plain": [
       "(20, 1, 1, 20)"
      ]
     },
     "execution_count": 11,
     "metadata": {},
     "output_type": "execute_result"
    }
   ],
   "source": [
    "cors[0][1].shape"
   ]
  },
  {
   "cell_type": "markdown",
   "id": "625d218b",
   "metadata": {},
   "source": [
    "### 4. Plot a 2D spectrum\n",
    "In order to plot the output, we will flatten each array to a matrix. We will furthermore flip the axis corresponding to $\\tau_1$, such that the time delay $\\tau_2 - \\tau_1$ increases (rather than decreases) with each subsequent element in the array."
   ]
  },
  {
   "cell_type": "code",
   "execution_count": 12,
   "id": "f2bda022",
   "metadata": {},
   "outputs": [],
   "source": [
    "Rs = []\n",
    "for i in range (4):\n",
    "    R = cors[i][1][:,0,0,:]\n",
    "    R = R[::-1, :]\n",
    "    Rs.append(R)"
   ]
  },
  {
   "cell_type": "markdown",
   "id": "5762c5ae",
   "metadata": {},
   "source": [
    "To visualise the results, we Fourier transform all four correlation functions contained in ``Rs``, padding with zeroes to increase the resolution in the frequency domain:"
   ]
  },
  {
   "cell_type": "code",
   "execution_count": 13,
   "id": "82626f1e",
   "metadata": {},
   "outputs": [],
   "source": [
    "pad=101\n",
    "\n",
    "Rfs=[]\n",
    "for i in range (4):\n",
    "    Rpad = np.pad(Rs[i], ((0,pad),(0,pad)), 'constant')\n",
    "    Rf=fftshift((fft2(Rpad)))\n",
    "    Rfs.append(Rf)\n",
    "\n",
    "time = cors[0][0][0]\n",
    "f_time = 2*np.pi*fftshift(fftfreq(time.size+pad,dt))"
   ]
  },
  {
   "cell_type": "markdown",
   "id": "f4912f8d",
   "metadata": {},
   "source": [
    "Finally, we can plot the 2D spectrum. The spectrum is given by the sum of the real parts of $R_{1,2,3,4}$ in frequency space, contained in the list ``Rfs``. Additionally, due to differences in the signs of the complex phases, we flip the arrays such that all four correlations appear in the same quadrant in frequency space:"
   ]
  },
  {
   "cell_type": "code",
   "execution_count": 14,
   "id": "10c5c365",
   "metadata": {
    "scrolled": true
   },
   "outputs": [
    {
     "data": {
      "text/plain": [
       "[<matplotlib.lines.Line2D at 0x7de9482b9510>]"
      ]
     },
     "execution_count": 14,
     "metadata": {},
     "output_type": "execute_result"
    },
    {
     "data": {
      "image/png": "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\n",
      "text/plain": [
       "<Figure size 432x288 with 2 Axes>"
      ]
     },
     "metadata": {
      "needs_background": "light"
     },
     "output_type": "display_data"
    }
   ],
   "source": [
    "fig, ax = plt.subplots(1,1)\n",
    "yax = np.flip(Rfs[0].real) + np.flip(Rfs[1].real,1) + np.flip(Rfs[2].real,1) + np.flip(Rfs[3].real) \n",
    "cont1=ax.contour(f_time, f_time, yax, levels=8)\n",
    "cbar = fig.colorbar(cont1)\n",
    "ax.set_xlim([-5, 15])\n",
    "ax.set_ylim([-5, 15])\n",
    "ax.set_aspect('equal', adjustable='box')\n",
    "ax.set_xlabel(r'$\\omega_{detec}\\,\\, (ps^{-1})$')\n",
    "ax.set_ylabel(r'$\\omega_{exc}\\,\\,(ps^{-1})$')\n",
    "ax.plot([0, 1], [0, 1], '--', color='gray', transform=ax.transAxes, linewidth=0.75)"
   ]
  },
  {
   "cell_type": "code",
   "execution_count": null,
   "id": "e9073a99-0ab1-476d-89a6-396b7214ab3e",
   "metadata": {},
   "outputs": [],
   "source": []
  }
 ],
 "metadata": {
  "kernelspec": {
   "display_name": "oqupyDev",
   "language": "python",
   "name": "oqupydev"
  },
  "language_info": {
   "codemirror_mode": {
    "name": "ipython",
    "version": 3
   },
   "file_extension": ".py",
   "mimetype": "text/x-python",
   "name": "python",
   "nbconvert_exporter": "python",
   "pygments_lexer": "ipython3",
   "version": "3.6.15"
  }
 },
 "nbformat": 4,
 "nbformat_minor": 5
}
